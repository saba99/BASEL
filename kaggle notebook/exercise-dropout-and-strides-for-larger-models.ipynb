{
 "cells": [
  {
   "cell_type": "markdown",
   "metadata": {
    "papermill": {
     "duration": 0.008345,
     "end_time": "2020-10-15T15:36:50.092441",
     "exception": false,
     "start_time": "2020-10-15T15:36:50.084096",
     "status": "completed"
    },
    "tags": []
   },
   "source": [
    "**This notebook is an exercise in the [Deep Learning for Computer Vision](https://www.kaggle.com/learn/deep-learning-for-computer-vision) course.  You can reference the tutorial at [this link](https://www.kaggle.com/dansbecker/dropout-and-strides-for-larger-models).**\n",
    "\n",
    "---\n"
   ]
  },
  {
   "cell_type": "markdown",
   "metadata": {
    "papermill": {
     "duration": 0.007084,
     "end_time": "2020-10-15T15:36:50.106973",
     "exception": false,
     "start_time": "2020-10-15T15:36:50.099889",
     "status": "completed"
    },
    "tags": []
   },
   "source": [
    "# Introduction\n",
    "\n",
    "You've built a model to identify clothing types in the **MNIST for Fashion** dataset.  Now you will make your model bigger, specify larger stride lengths and apply dropout. These changes will make your model faster and more accurate.\n",
    "\n",
    "This is a last step in the **[Deep Learning Track](https://www.kaggle.com/learn/deep-learning)**.\n",
    "\n",
    "\n",
    "## Data Preparation\n",
    "**Run this cell of code.**\n"
   ]
  },
  {
   "cell_type": "code",
   "execution_count": 1,
   "metadata": {
    "collapsed": true,
    "execution": {
     "iopub.execute_input": "2020-10-15T15:36:50.132086Z",
     "iopub.status.busy": "2020-10-15T15:36:50.131295Z",
     "iopub.status.idle": "2020-10-15T15:37:30.698015Z",
     "shell.execute_reply": "2020-10-15T15:37:30.696988Z"
    },
    "papermill": {
     "duration": 40.583999,
     "end_time": "2020-10-15T15:37:30.698163",
     "exception": false,
     "start_time": "2020-10-15T15:36:50.114164",
     "status": "completed"
    },
    "tags": []
   },
   "outputs": [
    {
     "name": "stdout",
     "output_type": "stream",
     "text": [
      "Setup Complete\n"
     ]
    }
   ],
   "source": [
    "import numpy as np\n",
    "from sklearn.model_selection import train_test_split\n",
    "from tensorflow import keras\n",
    "\n",
    "# Set up code checking\n",
    "from learntools.core import binder\n",
    "binder.bind(globals())\n",
    "from learntools.deep_learning.exercise_8 import *\n",
    "print(\"Setup Complete\")\n",
    "\n",
    "img_rows, img_cols = 28, 28\n",
    "num_classes = 10\n",
    "\n",
    "def prep_data(raw):\n",
    "    y = raw[:, 0]\n",
    "    out_y = keras.utils.to_categorical(y, num_classes)\n",
    "    \n",
    "    x = raw[:,1:]\n",
    "    num_images = raw.shape[0]\n",
    "    out_x = x.reshape(num_images, img_rows, img_cols, 1)\n",
    "    out_x = out_x / 255\n",
    "    return out_x, out_y\n",
    "\n",
    "fashion_file = \"../input/fashionmnist/fashion-mnist_train.csv\"\n",
    "fashion_data = np.loadtxt(fashion_file, skiprows=1, delimiter=',')\n",
    "x, y = prep_data(fashion_data)"
   ]
  },
  {
   "cell_type": "markdown",
   "metadata": {
    "papermill": {
     "duration": 0.007542,
     "end_time": "2020-10-15T15:37:30.715753",
     "exception": false,
     "start_time": "2020-10-15T15:37:30.708211",
     "status": "completed"
    },
    "tags": []
   },
   "source": [
    "# 1) Increasing Stride Size in A Layer\n",
    "\n",
    "Below is a model without strides (or more accurately, with a stride length of 1)\n",
    "\n",
    "Run it. Notice it's accuracy and how long it takes per epoch. Then you will change the stride length in one of the layers."
   ]
  },
  {
   "cell_type": "code",
   "execution_count": 2,
   "metadata": {
    "collapsed": true,
    "execution": {
     "iopub.execute_input": "2020-10-15T15:37:30.740598Z",
     "iopub.status.busy": "2020-10-15T15:37:30.739994Z",
     "iopub.status.idle": "2020-10-15T15:38:03.997230Z",
     "shell.execute_reply": "2020-10-15T15:38:03.996446Z"
    },
    "papermill": {
     "duration": 33.273921,
     "end_time": "2020-10-15T15:38:03.997344",
     "exception": false,
     "start_time": "2020-10-15T15:37:30.723423",
     "status": "completed"
    },
    "tags": []
   },
   "outputs": [
    {
     "name": "stdout",
     "output_type": "stream",
     "text": [
      "Epoch 1/3\n",
      "3000/3000 [==============================] - 10s 3ms/step - loss: 0.3933 - accuracy: 0.8578 - val_loss: 0.3032 - val_accuracy: 0.8920\n",
      "Epoch 2/3\n",
      "3000/3000 [==============================] - 9s 3ms/step - loss: 0.2493 - accuracy: 0.9070 - val_loss: 0.2792 - val_accuracy: 0.9015\n",
      "Epoch 3/3\n",
      "3000/3000 [==============================] - 9s 3ms/step - loss: 0.1792 - accuracy: 0.9342 - val_loss: 0.2788 - val_accuracy: 0.9096\n"
     ]
    },
    {
     "data": {
      "text/plain": [
       "<tensorflow.python.keras.callbacks.History at 0x7fa151a46c50>"
      ]
     },
     "execution_count": 2,
     "metadata": {},
     "output_type": "execute_result"
    }
   ],
   "source": [
    "from tensorflow.keras.models import Sequential\n",
    "from tensorflow.keras.layers import Dense, Flatten, Conv2D, Dropout\n",
    "\n",
    "batch_size = 16\n",
    "\n",
    "fashion_model = Sequential()\n",
    "fashion_model.add(Conv2D(16, kernel_size=(3, 3),\n",
    "                 activation='relu',\n",
    "                 input_shape=(img_rows, img_cols, 1)))\n",
    "fashion_model.add(Conv2D(16, (3, 3), activation='relu'))\n",
    "fashion_model.add(Flatten())\n",
    "fashion_model.add(Dense(128, activation='relu'))\n",
    "fashion_model.add(Dense(num_classes, activation='softmax'))\n",
    "\n",
    "fashion_model.compile(loss=keras.losses.categorical_crossentropy,\n",
    "              optimizer='adam',\n",
    "              metrics=['accuracy'])\n",
    "\n",
    "fashion_model.fit(x, y,\n",
    "          batch_size=batch_size,\n",
    "          epochs=3,\n",
    "          validation_split = 0.2)\n"
   ]
  },
  {
   "cell_type": "markdown",
   "metadata": {
    "papermill": {
     "duration": 0.153874,
     "end_time": "2020-10-15T15:38:04.304981",
     "exception": false,
     "start_time": "2020-10-15T15:38:04.151107",
     "status": "completed"
    },
    "tags": []
   },
   "source": [
    "You have the same code in the cell below, but the model is now called `fashion_model_1`.  Change the specification of `fashion_model_1` so the second convolutional layer has a stride length of 2.\n",
    "\n",
    "Run the cell after you have done that. How does the speed and accuracy change compared to the first model you ran above?"
   ]
  },
  {
   "cell_type": "code",
   "execution_count": 3,
   "metadata": {
    "execution": {
     "iopub.execute_input": "2020-10-15T15:38:04.629749Z",
     "iopub.status.busy": "2020-10-15T15:38:04.628634Z",
     "iopub.status.idle": "2020-10-15T15:38:29.408852Z",
     "shell.execute_reply": "2020-10-15T15:38:29.409605Z"
    },
    "papermill": {
     "duration": 24.945241,
     "end_time": "2020-10-15T15:38:29.409771",
     "exception": false,
     "start_time": "2020-10-15T15:38:04.464530",
     "status": "completed"
    },
    "tags": []
   },
   "outputs": [
    {
     "name": "stdout",
     "output_type": "stream",
     "text": [
      "Epoch 1/3\n",
      "3000/3000 [==============================] - 8s 3ms/step - loss: 0.4335 - accuracy: 0.8425 - val_loss: 0.3262 - val_accuracy: 0.8848\n",
      "Epoch 2/3\n",
      "3000/3000 [==============================] - 8s 3ms/step - loss: 0.2900 - accuracy: 0.8934 - val_loss: 0.3328 - val_accuracy: 0.8758\n",
      "Epoch 3/3\n",
      "3000/3000 [==============================] - 8s 3ms/step - loss: 0.2371 - accuracy: 0.9109 - val_loss: 0.2667 - val_accuracy: 0.9072\n"
     ]
    },
    {
     "data": {
      "application/javascript": [
       "parent.postMessage({\"jupyterEvent\": \"custom.exercise_interaction\", \"data\": {\"outcomeType\": 1, \"valueTowardsCompletion\": 1.0, \"interactionType\": 1, \"questionType\": 2, \"questionId\": \"1_AddStrides\", \"learnToolsVersion\": \"0.3.4\", \"failureMessage\": \"\", \"exceptionClass\": \"\", \"trace\": \"\"}}, \"*\")"
      ],
      "text/plain": [
       "<IPython.core.display.Javascript object>"
      ]
     },
     "metadata": {},
     "output_type": "display_data"
    },
    {
     "data": {
      "text/markdown": [
       "<span style=\"color:#33cc33\">Correct</span>"
      ],
      "text/plain": [
       "Correct"
      ]
     },
     "metadata": {},
     "output_type": "display_data"
    }
   ],
   "source": [
    "fashion_model_1 = Sequential()\n",
    "fashion_model_1.add(Conv2D(16, kernel_size=(3, 3),\n",
    "                 activation='relu',\n",
    "                 input_shape=(img_rows, img_cols, 1)))\n",
    "fashion_model_1.add(Conv2D(16, (3, 3), activation='relu', strides=2))\n",
    "fashion_model_1.add(Flatten())\n",
    "fashion_model_1.add(Dense(128, activation='relu'))\n",
    "fashion_model_1.add(Dense(num_classes, activation='softmax'))\n",
    "\n",
    "fashion_model_1.compile(loss=keras.losses.categorical_crossentropy,\n",
    "              optimizer='adam',\n",
    "              metrics=['accuracy'])\n",
    "\n",
    "fashion_model_1.fit(x, y,\n",
    "          batch_size=batch_size,\n",
    "          epochs=3,\n",
    "          validation_split = 0.2)\n",
    "\n",
    "# Check your answer\n",
    "q_1.check()"
   ]
  },
  {
   "cell_type": "markdown",
   "metadata": {
    "papermill": {
     "duration": 0.291185,
     "end_time": "2020-10-15T15:38:29.992524",
     "exception": false,
     "start_time": "2020-10-15T15:38:29.701339",
     "status": "completed"
    },
    "tags": []
   },
   "source": [
    "For the solution, uncomment and run the cell below:"
   ]
  },
  {
   "cell_type": "code",
   "execution_count": 4,
   "metadata": {
    "execution": {
     "iopub.execute_input": "2020-10-15T15:38:30.582724Z",
     "iopub.status.busy": "2020-10-15T15:38:30.580945Z",
     "iopub.status.idle": "2020-10-15T15:38:30.583478Z",
     "shell.execute_reply": "2020-10-15T15:38:30.583968Z"
    },
    "papermill": {
     "duration": 0.299795,
     "end_time": "2020-10-15T15:38:30.584117",
     "exception": false,
     "start_time": "2020-10-15T15:38:30.284322",
     "status": "completed"
    },
    "tags": []
   },
   "outputs": [],
   "source": [
    "#q_1.solution()"
   ]
  },
  {
   "cell_type": "markdown",
   "metadata": {
    "papermill": {
     "duration": 0.29185,
     "end_time": "2020-10-15T15:38:31.166796",
     "exception": false,
     "start_time": "2020-10-15T15:38:30.874946",
     "status": "completed"
    },
    "tags": []
   },
   "source": [
    "You should notice that your model training ran about twice as fast, but the accuracy change was trivial.  \n",
    "\n",
    "In addition to being faster to train, this model is also faster at making predictions. This is very important in many scenarios. In practice, you'll need to decide whether that type of speed is important in the applications where you eventually apply deep learning models.\n",
    "\n",
    "You could experiment with more layers or more convolutions in each layer. With some fine-tuning, you can build a model that is both faster and more accurate than the original model."
   ]
  },
  {
   "cell_type": "markdown",
   "metadata": {
    "papermill": {
     "duration": 0.289734,
     "end_time": "2020-10-15T15:38:31.745318",
     "exception": false,
     "start_time": "2020-10-15T15:38:31.455584",
     "status": "completed"
    },
    "tags": []
   },
   "source": [
    "# Congrats\n",
    "You've finished the Deep Learning course.  You have the tools to create and tune computer vision models.  \n",
    "\n",
    "If you feel like playing more with this dataset, you can open up a new code cell to experiment with different models (adding dropout, adding layers, etc.)  Or pick a new project and try out your skills.  \n",
    "\n",
    "A few fun datasets you might try include:\n",
    "- [Written letter recognition](https://www.kaggle.com/olgabelitskaya/classification-of-handwritten-letters)\n",
    "- [Flower Identification](https://www.kaggle.com/alxmamaev/flowers-recognition)\n",
    "- [Cats vs Dogs](https://www.kaggle.com/c/dogs-vs-cats-redux-kernels-edition)\n",
    "- [10 Monkeys](https://www.kaggle.com/slothkong/10-monkey-species)\n",
    "- [Predict Bone Age from X-Rays](https://www.kaggle.com/kmader/rsna-bone-age)\n",
    "\n",
    "You have learned a lot, and you'll learn it as you practice. Have fun with it!"
   ]
  },
  {
   "cell_type": "markdown",
   "metadata": {
    "papermill": {
     "duration": 0.288673,
     "end_time": "2020-10-15T15:38:32.324513",
     "exception": false,
     "start_time": "2020-10-15T15:38:32.035840",
     "status": "completed"
    },
    "tags": []
   },
   "source": [
    "---\n",
    "\n",
    "\n",
    "\n",
    "\n",
    "*Have questions or comments? Visit the [Learn Discussion forum](https://www.kaggle.com/learn-forum/161321) to chat with other Learners.*"
   ]
  }
 ],
 "metadata": {
  "kernelspec": {
   "display_name": "Python 3",
   "language": "python",
   "name": "python3"
  },
  "language_info": {
   "codemirror_mode": {
    "name": "ipython",
    "version": 3
   },
   "file_extension": ".py",
   "mimetype": "text/x-python",
   "name": "python",
   "nbconvert_exporter": "python",
   "pygments_lexer": "ipython3",
   "version": "3.7.6"
  },
  "papermill": {
   "duration": 107.809777,
   "end_time": "2020-10-15T15:38:33.816813",
   "environment_variables": {},
   "exception": null,
   "input_path": "__notebook__.ipynb",
   "output_path": "__notebook__.ipynb",
   "parameters": {},
   "start_time": "2020-10-15T15:36:46.007036",
   "version": "2.1.0"
  }
 },
 "nbformat": 4,
 "nbformat_minor": 2
}
